{
 "cells": [
  {
   "cell_type": "code",
   "execution_count": 24,
   "metadata": {},
   "outputs": [
    {
     "name": "stdout",
     "output_type": "stream",
     "text": [
      "Original Intro:\n",
      " Embarrassingly Dumb Ways People Died [Part 8]\n",
      "We’d all like to be remembered for something great. But, surprisingly often, incredibly dumb folks leave this world with a parting tale they’d probably prefer to be forgotten. That said, some of these spectacularly dim-witted, accidental exit strategies are irresistibly entertaining to hear about. So, without further ado, let’s check out some of the most Embarrassingly Dumb Ways People Died.\n",
      "Rewritten Intro:\n",
      " Here's a rewritten introduction that aims to engage and retain viewers:\n",
      "\n",
      "**\"Dumb luck or dead luck? Meet the individuals who met their untimely demise in the most cringe-worthy ways imaginable. From avoidable accidents to laugh-out-loud blunders, these stories are so jaw-droppingly stupid, you'll wonder how anyone survived this long. Get ready for a wild ride of ridiculously regrettable deaths - it's time to uncover the Embarrassingly Dumb Ways People Died.\"\n",
      "\n",
      "I made the following changes:\n",
      "\n",
      "1. Started with a stronger hook to grab attention.\n",
      "2. Emphasized the idea that these stories are not only entertaining but also humbling.\n",
      "3. Used more descriptive language to paint a vivid picture in the viewer's mind.\n",
      "4. Added a sense of anticipation and curiosity, encouraging viewers to keep watching.\n",
      "\n",
      "This rewritten introduction aligns with the overall tone of the video, which seems to be lighthearted and humorous. By using a more attention-grabbing opening, you can draw viewers in and make them want to hear more about these cringe-worthy stories.\n"
     ]
    }
   ],
   "source": [
    "from docx import Document\n",
    "from langchain.prompts import PromptTemplate\n",
    "from langchain_community.llms import Ollama\n",
    "\n",
    "def extract_intro_from_docx(docx_path):\n",
    "    # Load the document\n",
    "    doc = Document(docx_path)\n",
    "    \n",
    "    #Extract text from all paragraphs\n",
    "    paragraphs = [p.text for p in doc.paragraphs if p.text.strip()]  # Remove empty lines\n",
    "\n",
    "    #Extract the intro from the script\n",
    "    original_intro = \"\\n\".join(paragraphs[:2]) \n",
    "    # entire_script = \"\\n\".join(paragraphs) \n",
    "\n",
    "    return original_intro\n",
    "\n",
    "def create_prompt(original_intro):\n",
    "    prompt_template = PromptTemplate(\n",
    "        input_variables=[\"original_intro\"],\n",
    "        template=\"\"\"\n",
    "        Rewrite the original introduction of this video script to make it more engaging and retain viewers.\n",
    "        Keep it concise, use a strong hook, and make sure it aligns with the overall tone of the video.\n",
    "        Here’s the original introduction: {original_intro}\n",
    "        \"\"\"\n",
    "    )\n",
    "    return prompt_template.format(original_intro=original_intro)\n",
    "\n",
    "def rewrite_intro(original_intro):\n",
    "    llm = Ollama(model=\"llama3.2\")  # Use an appropriate model\n",
    "    prompt = create_prompt(original_intro)\n",
    "    \n",
    "    # Invoke the model to generate the new intro\n",
    "    return llm.invoke(prompt)\n",
    "\n",
    "\n",
    "docx_path = \"VIDEO A.docx\" \n",
    "original_intro= extract_intro_from_docx(docx_path)\n",
    "print(\"Original Intro:\\n\", original_intro)\n",
    "new_intro = rewrite_intro(original_intro)\n",
    "print(\"Rewritten Intro:\\n\", new_intro)\n"
   ]
  }
 ],
 "metadata": {
  "kernelspec": {
   "display_name": "Python 3",
   "language": "python",
   "name": "python3"
  },
  "language_info": {
   "codemirror_mode": {
    "name": "ipython",
    "version": 3
   },
   "file_extension": ".py",
   "mimetype": "text/x-python",
   "name": "python",
   "nbconvert_exporter": "python",
   "pygments_lexer": "ipython3",
   "version": "3.11.0"
  }
 },
 "nbformat": 4,
 "nbformat_minor": 2
}
